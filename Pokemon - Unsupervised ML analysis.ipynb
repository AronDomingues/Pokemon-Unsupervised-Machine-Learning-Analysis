{
 "cells": [
  {
   "cell_type": "markdown",
   "metadata": {},
   "source": [
    "#####################################\n",
    "#                                   #\n",
    "#           Import                  #\n",
    "#                                   #\n",
    "#                                   #\n",
    "#####################################"
   ]
  },
  {
   "cell_type": "markdown",
   "metadata": {},
   "source": [
    "Importing packages"
   ]
  },
  {
   "cell_type": "code",
   "execution_count": null,
   "metadata": {},
   "outputs": [],
   "source": [
    "import pandas as pd\n",
    "import numpy as np\n",
    "import matplotlib.pyplot as plt\n",
    "import seaborn as sns\n",
    "import scipy.cluster.hierarchy as sch\n",
    "import scipy.stats as stats\n",
    "from scipy.stats import zscore\n",
    "from scipy.spatial.distance import pdist\n",
    "from sklearn.cluster import AgglomerativeClustering\n",
    "from sklearn.cluster import KMeans\n",
    "import pingouin as pg\n",
    "import plotly.express as px \n",
    "import plotly.io as pio\n",
    "pio.renderers.default='browser'\n",
    "from factor_analyzer import FactorAnalyzer\n",
    "from factor_analyzer.factor_analyzer import calculate_bartlett_sphericity\n",
    "import sympy as sy\n",
    "from scipy.stats import chi2_contingency\n",
    "import statsmodels.api as sm\n",
    "import plotly.graph_objects as go\n",
    "import prince\n"
   ]
  },
  {
   "cell_type": "markdown",
   "metadata": {},
   "source": [
    "Importing Database"
   ]
  },
  {
   "cell_type": "code",
   "execution_count": null,
   "metadata": {},
   "outputs": [],
   "source": [
    "db_pokemon = pd.read_csv('pokemon.csv')"
   ]
  },
  {
   "cell_type": "markdown",
   "metadata": {},
   "source": [
    "We want to select only the 1st generation = keeping it old school!"
   ]
  },
  {
   "cell_type": "code",
   "execution_count": null,
   "metadata": {},
   "outputs": [],
   "source": [
    "db_pokemon_1stgen = db_pokemon[db_pokemon['generation'] == 1]\n",
    "print(db_pokemon_1stgen.info())\n",
    "descritive_db_pokemon = db_pokemon_1stgen.describe()"
   ]
  },
  {
   "cell_type": "markdown",
   "metadata": {},
   "source": [
    "3d chart of observations based on initial stats = 'HP', 'Attack', 'Defense'.\n",
    "One of the goals of this analysis is to have the same 3d chart but with clustered Pokémon."
   ]
  },
  {
   "cell_type": "code",
   "execution_count": null,
   "metadata": {},
   "outputs": [],
   "source": [
    "fig = px.scatter_3d(db_pokemon_1stgen, \n",
    "                    x='hp', \n",
    "                    y='attack', \n",
    "                    z='defense',\n",
    "                    text=db_pokemon_1stgen.name)\n",
    "fig.show()"
   ]
  },
  {
   "cell_type": "markdown",
   "metadata": {},
   "source": [
    "#####################################\n",
    "#                                   #\n",
    "#          PCA                      #\n",
    "#                                   #\n",
    "#                                   #\n",
    "#####################################"
   ]
  },
  {
   "cell_type": "markdown",
   "metadata": {},
   "source": [
    "Goal: Identify underlying relationships between variables by grouping them into factors.\n",
    "\n",
    "Variables: initial status of Pokémon (HP, Attack, Defense, SP_Attack, SP_Defense)."
   ]
  },
  {
   "cell_type": "markdown",
   "metadata": {},
   "source": [
    "To start the factor analysis, let's start by selecting variables = only attribute stats."
   ]
  },
  {
   "cell_type": "code",
   "execution_count": null,
   "metadata": {},
   "outputs": [],
   "source": [
    "db_pokemon_1stgen_stats = db_pokemon_1stgen[['hp','attack','defense','sp_attack','sp_defense']]"
   ]
  },
  {
   "cell_type": "markdown",
   "metadata": {},
   "source": [
    "Then we move on with Pearson's correlation of the variables.\n",
    "\n",
    "With this approach we can see how statistically related the variables are.\n",
    "\n",
    "The upper triangle of the matrix shows the significance level, \n",
    "which is the probabilty of observing the correlation coefficient under the null hypothesis -that there is no correlation between the pair of variables-."
   ]
  },
  {
   "cell_type": "code",
   "execution_count": null,
   "metadata": {},
   "outputs": [],
   "source": [
    "pearson_correlation_stats = pg.rcorr(db_pokemon_1stgen_stats, method = 'pearson', upper = 'pval', \n",
    "         decimals = 4, \n",
    "         pval_stars = {0.01: '***', 0.05: '**', 0.10: '*'})"
   ]
  },
  {
   "cell_type": "markdown",
   "metadata": {},
   "source": [
    "Let's also calculate Bartlett's test of sphericity"
   ]
  },
  {
   "cell_type": "code",
   "execution_count": null,
   "metadata": {},
   "outputs": [],
   "source": [
    "bartlett, p_value = calculate_bartlett_sphericity(db_pokemon_1stgen_stats)\n",
    "\n",
    "print(f'Qui² Bartlett: {round(bartlett, 2)}')\n",
    "print(f'p-value: {round(p_value, 4)}')"
   ]
  },
  {
   "cell_type": "markdown",
   "metadata": {},
   "source": [
    "Based on p-value we can move on with using Factor analysis."
   ]
  },
  {
   "cell_type": "markdown",
   "metadata": {},
   "source": [
    "The next step is to define PCA (1st with all available factors)"
   ]
  },
  {
   "cell_type": "code",
   "execution_count": null,
   "metadata": {},
   "outputs": [],
   "source": [
    "fa = FactorAnalyzer(n_factors=5, method='principal', rotation=None).fit(db_pokemon_1stgen_stats)"
   ]
  },
  {
   "cell_type": "markdown",
   "metadata": {},
   "source": [
    "Then we should be obtaining Eigenvalues, variances and cumulative variances "
   ]
  },
  {
   "cell_type": "code",
   "execution_count": null,
   "metadata": {},
   "outputs": [],
   "source": [
    "eigenvalues_factors= fa.get_factor_variance()\n",
    "\n",
    "table_eigen = pd.DataFrame(eigenvalues_factors)\n",
    "table_eigen.columns = [f\"Factor {i+1}\" for i, v in enumerate(table_eigen.columns)]\n",
    "table_eigen.index = ['Eigenvalue','Variance', 'Cumulative Variance']\n",
    "table_eigen = table_eigen.T\n",
    "\n",
    "print(table_eigen)"
   ]
  },
  {
   "cell_type": "markdown",
   "metadata": {},
   "source": [
    "It's possible to see that 3 factors result in 83% of the cumulative variance."
   ]
  },
  {
   "cell_type": "markdown",
   "metadata": {},
   "source": [
    "Let's move on by obtaining factorial loadings. \n",
    "With that we can understand what is the importance of each variable when the factor is being defined."
   ]
  },
  {
   "cell_type": "code",
   "execution_count": null,
   "metadata": {},
   "outputs": [],
   "source": [
    "factorial_loadings = fa.loadings_\n",
    "\n",
    "table_loads = pd.DataFrame(factorial_loadings)\n",
    "table_loads.columns = [f\"Factor {i+1}\" for i, v in enumerate(table_loads.columns)]\n",
    "table_loads.index = db_pokemon_1stgen_stats.columns\n",
    "\n",
    "print(table_loads)"
   ]
  },
  {
   "cell_type": "markdown",
   "metadata": {},
   "source": [
    "Let's analyze that visually..."
   ]
  },
  {
   "cell_type": "code",
   "execution_count": null,
   "metadata": {},
   "outputs": [],
   "source": [
    "#%% Analyzing factorial loads of each factor \n",
    "\n",
    "table_loads_graph = table_loads.reset_index()\n",
    "table_loads_graph = table_loads_graph.melt(id_vars='index')\n",
    "\n",
    "sns.barplot(data=table_loads_graph, x='variable', y='value', hue='index', palette='bright')\n",
    "plt.legend(title='Variables', bbox_to_anchor=(1,1), fontsize = '6')\n",
    "plt.title('Factorial loads', fontsize='12')\n",
    "plt.xlabel(xlabel=None)\n",
    "plt.ylabel(ylabel=None)\n",
    "plt.show()"
   ]
  },
  {
   "cell_type": "markdown",
   "metadata": {},
   "source": [
    "It's possible to see that 3 factors result in 83% of the cumulative variance. We'll use only those 3 factors as the variables for the clustering of Pokémon."
   ]
  },
  {
   "cell_type": "code",
   "execution_count": null,
   "metadata": {},
   "outputs": [],
   "source": [
    "fa = FactorAnalyzer(n_factors=3, method='principal', rotation=None).fit(db_pokemon_1stgen_stats)"
   ]
  },
  {
   "cell_type": "markdown",
   "metadata": {},
   "source": [
    "Obtaining Eigenvalues, variances and cumulative variances for new PCA."
   ]
  },
  {
   "cell_type": "code",
   "execution_count": null,
   "metadata": {},
   "outputs": [],
   "source": [
    "eigenvalues_factors= fa.get_factor_variance()\n",
    "\n",
    "table_eigen = pd.DataFrame(eigenvalues_factors)\n",
    "table_eigen.columns = [f\"Factor {i+1}\" for i, v in enumerate(table_eigen.columns)]\n",
    "table_eigen.index = ['Eigenvalue','Variance', 'Cumulative Variance']\n",
    "table_eigen = table_eigen.T\n",
    "\n",
    "print(table_eigen)\n",
    "\n",
    "# It's possible to see that 3 factors result in 83% of the cumulative variance.\n"
   ]
  },
  {
   "cell_type": "markdown",
   "metadata": {},
   "source": [
    "Extracting factors to the observations on the database"
   ]
  },
  {
   "cell_type": "code",
   "execution_count": null,
   "metadata": {},
   "outputs": [],
   "source": [
    "factors = pd.DataFrame(fa.transform(db_pokemon_1stgen_stats))\n",
    "factors.columns =  [f\"Factor {i+1}\" for i, v in enumerate(factors.columns)]"
   ]
  },
  {
   "cell_type": "markdown",
   "metadata": {},
   "source": [
    "Adding factors to the database"
   ]
  },
  {
   "cell_type": "code",
   "execution_count": null,
   "metadata": {},
   "outputs": [],
   "source": [
    "db_pokemon_1stgen = pd.concat([db_pokemon_1stgen.reset_index(drop=True),factors], axis=1)"
   ]
  },
  {
   "cell_type": "markdown",
   "metadata": {},
   "source": [
    "With that, we conclude that 5 different variables were grouped into 3 different factors that sum up to 83% of the cumulative variance."
   ]
  },
  {
   "cell_type": "markdown",
   "metadata": {},
   "source": [
    "#####################################\n",
    "#                                   #\n",
    "#              Ranking              #\n",
    "#                                   #\n",
    "#                                   #\n",
    "#####################################"
   ]
  },
  {
   "cell_type": "markdown",
   "metadata": {},
   "source": [
    "Let's rank the Pokémon based on the factors"
   ]
  },
  {
   "cell_type": "code",
   "execution_count": null,
   "metadata": {},
   "outputs": [],
   "source": [
    "db_pokemon_1stgen['Ranking'] = 0\n",
    "\n",
    "for index, item in enumerate(list(table_eigen.index)):\n",
    "    variance = table_eigen.loc[item]['Variance']\n",
    "\n",
    "    db_pokemon_1stgen['Ranking'] = db_pokemon_1stgen['Ranking'] + db_pokemon_1stgen[table_eigen.index[index]]*variance"
   ]
  },
  {
   "cell_type": "markdown",
   "metadata": {},
   "source": [
    "A Ranking column was created so we can say which are the best pokemons based on their Factor results."
   ]
  },
  {
   "cell_type": "markdown",
   "metadata": {},
   "source": [
    "#####################################\n",
    "#                                   #\n",
    "#            Clustering             #\n",
    "#                                   #\n",
    "#                                   #\n",
    "#####################################"
   ]
  },
  {
   "cell_type": "markdown",
   "metadata": {},
   "source": [
    "Goal: Segment Pokémon with similar initial stats into groups.\n",
    "\n",
    "Variables: Factors from Factor Analysis."
   ]
  },
  {
   "cell_type": "markdown",
   "metadata": {},
   "source": [
    "Selecting variables for clustering\n"
   ]
  },
  {
   "cell_type": "code",
   "execution_count": null,
   "metadata": {},
   "outputs": [],
   "source": [
    "db_pokemon_1stgen_factor_stats = db_pokemon_1stgen[['Factor 1','Factor 2','Factor 3']]"
   ]
  },
  {
   "cell_type": "markdown",
   "metadata": {},
   "source": [
    "It's up to us to decide how many clusters we want data segmented into, but there are some techniques that might help us on that. One of them is the Elbow technique.\n",
    "\n",
    "Elbow - a support method as a suggestion for the quantity of clusters"
   ]
  },
  {
   "cell_type": "code",
   "execution_count": null,
   "metadata": {},
   "outputs": [],
   "source": [
    "elbow = []\n",
    "K = range(1,40) # stop point should be a manual input \n",
    "for k in K:\n",
    "    kmeanElbow = KMeans(n_clusters=k, init='random', random_state=100).fit(db_pokemon_1stgen_factor_stats)\n",
    "    elbow.append(kmeanElbow.inertia_)\n",
    "    \n",
    "plt.figure(figsize=(16,8))\n",
    "plt.plot(K, elbow, marker='o')\n",
    "plt.xlabel('# of Clusters', fontsize=16)\n",
    "plt.xticks(range(1,40))\n",
    "plt.ylabel('WCSS', fontsize=16)\n",
    "plt.title('Elbow method', fontsize=16)\n",
    "plt.show()"
   ]
  },
  {
   "cell_type": "markdown",
   "metadata": {},
   "source": [
    "According to the analysis we decided to keep 5 clusters."
   ]
  },
  {
   "cell_type": "markdown",
   "metadata": {},
   "source": [
    "So let's cluster Pokémon by the method K-means."
   ]
  },
  {
   "cell_type": "code",
   "execution_count": null,
   "metadata": {},
   "outputs": [],
   "source": [
    "kmeans = KMeans(n_clusters=5, init='random', random_state=100).fit(db_pokemon_1stgen_factor_stats)\n",
    "\n",
    "kmeans_clusters = kmeans.labels_\n",
    "db_pokemon_1stgen['cluster_kmeans'] = kmeans_clusters\n",
    "db_pokemon_1stgen['cluster_kmeans'] = db_pokemon_1stgen['cluster_kmeans'].astype('category')"
   ]
  },
  {
   "cell_type": "markdown",
   "metadata": {},
   "source": [
    "Then let's plot the clusters using the k-means method"
   ]
  },
  {
   "cell_type": "code",
   "execution_count": null,
   "metadata": {},
   "outputs": [],
   "source": [
    "fig_clustering_kmeans = px.scatter_3d(db_pokemon_1stgen, \n",
    "                    x='Factor 1', \n",
    "                    y='Factor 2', \n",
    "                    z='Factor 3',\n",
    "                    color='cluster_kmeans',\n",
    "                    text=db_pokemon_1stgen.name)\n",
    "fig_clustering_kmeans.show()\n"
   ]
  },
  {
   "cell_type": "markdown",
   "metadata": {},
   "source": [
    "We now have 5 different groups of Pokémon based on their innitial stats."
   ]
  },
  {
   "cell_type": "markdown",
   "metadata": {},
   "source": [
    "#####################################\n",
    "#                                   #\n",
    "#               CA                  #\n",
    "#                                   #\n",
    "#                                   #\n",
    "#####################################"
   ]
  },
  {
   "cell_type": "markdown",
   "metadata": {},
   "source": [
    "The Simple Correspondence Analysis will be used so we can understand if there is any relationship between the cluster and the ranking. \n",
    "\n",
    "Goal: Understand if Pokémon of a specific group are better or worse when compared to other groups.\n",
    "\n",
    "Goal2: What's the best cluster based on their ranking positions.\n",
    "\n",
    "Variables: initial status of Pokémon (Groups based on ranks, Clusters based on initial stats)."
   ]
  },
  {
   "cell_type": "markdown",
   "metadata": {},
   "source": [
    "We should start by categorizing the Ranking column into 5 equal groups.\n",
    "It's ascending so let's label the groups accordingly - from worst to best -"
   ]
  },
  {
   "cell_type": "code",
   "execution_count": null,
   "metadata": {},
   "outputs": [],
   "source": [
    "db_pokemon_1stgen['Ranking_category'] = pd.qcut(db_pokemon_1stgen['Ranking'],5,labels=['Worst_Group','Bad_Group','Medium_group','Good_group','Best_group'])"
   ]
  },
  {
   "cell_type": "markdown",
   "metadata": {},
   "source": [
    "Is there any association between cluster and ranking group?\n",
    "\n",
    "With crosstab we can count the number of occurences on a pair of characteristics, as it displays the frequency distribution of the variables."
   ]
  },
  {
   "cell_type": "code",
   "execution_count": null,
   "metadata": {},
   "outputs": [],
   "source": [
    "comparison_table = pd.crosstab(db_pokemon_1stgen['cluster_kmeans'],db_pokemon_1stgen['Ranking_category'])\n",
    "print(comparison_table)\n",
    "\n",
    "qui2_test = chi2_contingency(comparison_table)\n",
    "\n",
    "print(f\"qui² statistic: {round(qui2_test[0], 2)}\")\n",
    "print(f\"p-value: {round(qui2_test[1], 4)}\")\n",
    "print(f\"Degrees of Freedom: {qui2_test[2]}\")\n"
   ]
  },
  {
   "cell_type": "markdown",
   "metadata": {},
   "source": [
    "Analyzing standardized resids, which are the differences between the observed values and the expected values for each pair of occurences."
   ]
  },
  {
   "cell_type": "code",
   "execution_count": null,
   "metadata": {},
   "outputs": [],
   "source": [
    "tab_res = sm.stats.Table(comparison_table)\n",
    "print(tab_res.standardized_resids)\n",
    "\n",
    "fig1 = go.Figure()\n",
    "\n",
    "maxz = np.max(tab_res.standardized_resids)+0.1\n",
    "minz = np.min(tab_res.standardized_resids)-0.1\n",
    "\n",
    "colorscale = ['purple' if i>1.96 else '#FAF9F6' for i in np.arange(minz,maxz,0.01)]\n",
    "\n",
    "fig1.add_trace(\n",
    "    go.Heatmap(\n",
    "        x = tab_res.standardized_resids.columns,\n",
    "        y = tab_res.standardized_resids.index,\n",
    "        z = np.array(tab_res.standardized_resids),\n",
    "        text=tab_res.standardized_resids.values,\n",
    "        texttemplate='%{text:.2f}',\n",
    "        showscale=False,\n",
    "        colorscale=colorscale))\n",
    "\n",
    "fig1.update_layout(\n",
    "    title='<b>Standardized adjusted resids</b>',\n",
    "    height = 600,\n",
    "    width = 600)\n",
    "\n",
    "fig1.show()"
   ]
  },
  {
   "cell_type": "markdown",
   "metadata": {},
   "source": [
    "Correspondence Analysis"
   ]
  },
  {
   "cell_type": "code",
   "execution_count": null,
   "metadata": {},
   "outputs": [],
   "source": [
    "ca = prince.CA().fit(comparison_table)"
   ]
  },
  {
   "cell_type": "markdown",
   "metadata": {},
   "source": [
    "Obtaining Eigenvalues for CA"
   ]
  },
  {
   "cell_type": "code",
   "execution_count": null,
   "metadata": {},
   "outputs": [],
   "source": [
    "eigen_table = ca.eigenvalues_summary\n",
    "\n",
    "print(eigen_table)"
   ]
  },
  {
   "cell_type": "markdown",
   "metadata": {},
   "source": [
    "Plotting the CA map"
   ]
  },
  {
   "cell_type": "code",
   "execution_count": null,
   "metadata": {},
   "outputs": [],
   "source": [
    "chart_df_row = pd.DataFrame({'var_row': comparison_table.index,\n",
    "                             'x_row':ca.row_coordinates(comparison_table)[0].values,\n",
    "                             'y_row': ca.row_coordinates(comparison_table)[1].values})\n",
    "\n",
    "chart_df_col = pd.DataFrame({'var_col': comparison_table.columns,\n",
    "                             'x_col':ca.column_coordinates(comparison_table)[0].values,\n",
    "                             'y_col': ca.column_coordinates(comparison_table)[1].values})\n",
    "\n",
    "def label_point(x, y, val, ax):\n",
    "    a = pd.concat({'x': x, 'y': y, 'val': val}, axis=1)\n",
    "    for i, point in a.iterrows():\n",
    "        ax.text(point['x'] + 0.03, point['y'] - 0.02, point['val'], fontsize=6)\n",
    "\n",
    "label_point(x = chart_df_col['x_col'],\n",
    "            y = chart_df_col['y_col'],\n",
    "            val = chart_df_col['var_col'],\n",
    "            ax = plt.gca())\n",
    "\n",
    "label_point(x = chart_df_row['x_row'],\n",
    "            y = chart_df_row['y_row'],\n",
    "            val = chart_df_row['var_row'],\n",
    "            ax = plt.gca()) \n",
    "\n",
    "sns.scatterplot(data=chart_df_row, x='x_row', y='y_row', s=20)\n",
    "sns.scatterplot(data=chart_df_col, x='x_col', y='y_col', s=20)\n",
    "sns.despine(top=True, right=True, left=False, bottom=False)\n",
    "plt.axhline(y=0, color='lightgrey', ls='--')\n",
    "plt.axvline(x=0, color='lightgrey', ls='--')\n",
    "plt.tick_params(size=2, labelsize=6)\n",
    "plt.title(\"Mapa Perceptual - Anacor\", fontsize=12)\n",
    "plt.xlabel(f\"Dim. 1: {eigen_table.iloc[0,1]} da inércia\", fontsize=8)\n",
    "plt.ylabel(f\"Dim. 2: {eigen_table.iloc[1,1]} da inércia\", fontsize=8)\n",
    "plt.show()"
   ]
  },
  {
   "cell_type": "markdown",
   "metadata": {},
   "source": [
    "#####################################\n",
    "#                                   #\n",
    "#              Conclusion           #\n",
    "#                                   #\n",
    "#                                   #\n",
    "#####################################"
   ]
  },
  {
   "cell_type": "markdown",
   "metadata": {},
   "source": [
    "It's easy to see that:\n",
    "\n",
    "Clusters 1 and 2\n",
    "Majorly groups the Pokémon with the worst charactheristics.\n",
    "\n",
    "Cluster 3\n",
    "Majorly groups the Pokémon with good charactheristics.\n",
    "\n",
    "\n",
    "Analyzing the CA Map and the standardized resids one can affirm that:\n",
    "\n",
    "Cluster 0\n",
    "Majorly groups the Pokémon with medium charactheristics.\n",
    "\n",
    "and finally\n",
    "\n",
    "Cluster 4\n",
    "Majorly groups the Pokémon with the best charachteristics.\n",
    "\n",
    "\n"
   ]
  },
  {
   "cell_type": "markdown",
   "metadata": {},
   "source": [
    "Let's print the names and status of Pokémon of Cluster 4."
   ]
  },
  {
   "cell_type": "code",
   "execution_count": null,
   "metadata": {},
   "outputs": [],
   "source": [
    "Cluster_4_pokemons = db_pokemon_1stgen[db_pokemon_1stgen['cluster_kmeans'] == 4][['name','hp', 'attack', 'defense', 'sp_attack', 'sp_defense', 'Ranking']].sort_values(by='Ranking',ascending=False)\n",
    "print(Cluster_4_pokemons.describe().round(2))"
   ]
  },
  {
   "cell_type": "markdown",
   "metadata": {},
   "source": [
    "#####################################\n",
    "#                                   #\n",
    "#              Exporting            #\n",
    "#                                   #\n",
    "#                                   #\n",
    "#####################################"
   ]
  },
  {
   "cell_type": "markdown",
   "metadata": {},
   "source": [
    "Exporting analysis"
   ]
  },
  {
   "cell_type": "code",
   "execution_count": null,
   "metadata": {},
   "outputs": [],
   "source": [
    "filename = 'Pokemon-Unsupervised ML analysis.csv'\n",
    "db_pokemon_1stgen.to_csv(filename, index=False,sep =\";\")"
   ]
  },
  {
   "cell_type": "markdown",
   "metadata": {},
   "source": [
    "#####################################\n",
    "#                                   #\n",
    "#              Appendix             #\n",
    "#                                   #\n",
    "#                                   #\n",
    "#####################################"
   ]
  },
  {
   "cell_type": "markdown",
   "metadata": {},
   "source": [
    "Alternative Method for clustering  = Agglomerative Hierarchical Cluster: Euclidian + single linkage"
   ]
  },
  {
   "cell_type": "code",
   "execution_count": null,
   "metadata": {},
   "outputs": [],
   "source": [
    "euclidian = pdist(db_pokemon_1stgen_factor_stats, metric='euclidean')"
   ]
  },
  {
   "cell_type": "markdown",
   "metadata": {},
   "source": [
    "1st: let's plot Dendogram for single method, and compare it to other dendograms"
   ]
  },
  {
   "cell_type": "code",
   "execution_count": null,
   "metadata": {},
   "outputs": [],
   "source": [
    "plt.figure(figsize=(16,8))\n",
    "dend_sing = sch.linkage(db_pokemon_1stgen_factor_stats, method = 'single', metric = 'euclidean')\n",
    "dendrogram_s = sch.dendrogram(dend_sing, color_threshold = 4.5, labels = list(db_pokemon_1stgen.name))\n",
    "plt.title('Dendrograma', fontsize=16)\n",
    "plt.xlabel('Pokemon', fontsize=16)\n",
    "plt.ylabel('Distância Euclidiana', fontsize=16)\n",
    "plt.show()"
   ]
  },
  {
   "cell_type": "markdown",
   "metadata": {},
   "source": [
    "2nd: Dendogram for complete method"
   ]
  },
  {
   "cell_type": "code",
   "execution_count": null,
   "metadata": {},
   "outputs": [],
   "source": [
    "plt.figure(figsize=(16,8))\n",
    "dend_comp = sch.linkage(db_pokemon_1stgen_factor_stats, method = 'complete', metric = 'euclidean')\n",
    "dendrogram_s = sch.dendrogram(dend_comp, color_threshold = 4.5, labels = list(db_pokemon_1stgen.name))\n",
    "plt.title('Dendrograma', fontsize=16)\n",
    "plt.xlabel('Pokemon', fontsize=16)\n",
    "plt.ylabel('Distância Euclidiana', fontsize=16)\n",
    "plt.show()"
   ]
  },
  {
   "cell_type": "markdown",
   "metadata": {},
   "source": [
    "3rd: Dendogram for average method"
   ]
  },
  {
   "cell_type": "code",
   "execution_count": null,
   "metadata": {},
   "outputs": [],
   "source": [
    "plt.figure(figsize=(16,8))\n",
    "dend_avg = sch.linkage(db_pokemon_1stgen_factor_stats, method = 'average', metric = 'euclidean')\n",
    "dendrogram_s = sch.dendrogram(dend_avg, color_threshold = 4.5, labels = list(db_pokemon_1stgen.name))\n",
    "plt.title('Dendrograma', fontsize=16)\n",
    "plt.xlabel('Pokemon', fontsize=16)\n",
    "plt.ylabel('Distância Euclidiana', fontsize=16)\n",
    "plt.show()"
   ]
  },
  {
   "cell_type": "code",
   "execution_count": null,
   "metadata": {},
   "outputs": [],
   "source": [
    "cluster_complete = AgglomerativeClustering(n_clusters = 5, metric = 'euclidean', linkage = 'complete')\n",
    "indica_cluster_complete = cluster_complete.fit_predict(db_pokemon_1stgen_factor_stats)\n",
    "db_pokemon_1stgen['cluster_complete'] = indica_cluster_complete\n",
    "db_pokemon_1stgen['cluster_complete'] = db_pokemon_1stgen['cluster_complete'].astype('category')"
   ]
  },
  {
   "cell_type": "markdown",
   "metadata": {},
   "source": [
    "Plotting the clusters using the Agglomerative Clustering method"
   ]
  },
  {
   "cell_type": "code",
   "execution_count": null,
   "metadata": {},
   "outputs": [],
   "source": [
    "fig_clustering_agglomerative = px.scatter_3d(db_pokemon_1stgen, \n",
    "                    x='Factor 1', \n",
    "                    y='Factor 2', \n",
    "                    z='Factor 3',\n",
    "                    color='cluster_complete',\n",
    "                    text=db_pokemon_1stgen.name)\n",
    "fig_clustering_agglomerative.show()\n"
   ]
  }
 ],
 "metadata": {
  "kernelspec": {
   "display_name": "base",
   "language": "python",
   "name": "python3"
  },
  "language_info": {
   "codemirror_mode": {
    "name": "ipython",
    "version": 3
   },
   "file_extension": ".py",
   "mimetype": "text/x-python",
   "name": "python",
   "nbconvert_exporter": "python",
   "pygments_lexer": "ipython3",
   "version": "3.11.7"
  }
 },
 "nbformat": 4,
 "nbformat_minor": 2
}
